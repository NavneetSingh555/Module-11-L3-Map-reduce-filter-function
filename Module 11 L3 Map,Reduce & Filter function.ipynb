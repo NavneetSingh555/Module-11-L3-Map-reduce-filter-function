{
 "cells": [
  {
   "cell_type": "code",
   "execution_count": null,
   "id": "df92965e-1d63-4401-bc03-b90651f7b43a",
   "metadata": {},
   "outputs": [],
   "source": [
    "# Map function"
   ]
  },
  {
   "cell_type": "code",
   "execution_count": 1,
   "id": "9f2323f1-7733-4d9a-8b66-66914a8e81e0",
   "metadata": {},
   "outputs": [],
   "source": [
    "l=[2,3,4,5,6]"
   ]
  },
  {
   "cell_type": "code",
   "execution_count": 2,
   "id": "8ec90033-4c58-4827-a15f-ba7458ea3af3",
   "metadata": {},
   "outputs": [],
   "source": [
    "def test(l):\n",
    "    l1=[]\n",
    "    for i in l:\n",
    "        l1.append(i**2)\n",
    "    return l1"
   ]
  },
  {
   "cell_type": "code",
   "execution_count": 3,
   "id": "b5b8eb6a-0cb0-4c0a-ae3c-9e1413acf0d6",
   "metadata": {},
   "outputs": [
    {
     "data": {
      "text/plain": [
       "[4, 9, 16, 25, 36]"
      ]
     },
     "execution_count": 3,
     "metadata": {},
     "output_type": "execute_result"
    }
   ],
   "source": [
    "test(l)"
   ]
  },
  {
   "cell_type": "code",
   "execution_count": 4,
   "id": "0d36ec52-f4ee-4825-805e-1e34a69a23a5",
   "metadata": {},
   "outputs": [],
   "source": [
    "def sq(x):\n",
    "    return x**2"
   ]
  },
  {
   "cell_type": "code",
   "execution_count": 5,
   "id": "d6789952-4323-4709-95f5-1017fd29fb26",
   "metadata": {},
   "outputs": [
    {
     "data": {
      "text/plain": [
       "<map at 0x7f408c2d64d0>"
      ]
     },
     "execution_count": 5,
     "metadata": {},
     "output_type": "execute_result"
    }
   ],
   "source": [
    "map(sq,l)"
   ]
  },
  {
   "cell_type": "code",
   "execution_count": 6,
   "id": "820cea2f-e50b-47e6-ac6b-8e8a27e38cfd",
   "metadata": {},
   "outputs": [
    {
     "data": {
      "text/plain": [
       "[4, 9, 16, 25, 36]"
      ]
     },
     "execution_count": 6,
     "metadata": {},
     "output_type": "execute_result"
    }
   ],
   "source": [
    "list(map(sq,l))"
   ]
  },
  {
   "cell_type": "code",
   "execution_count": 8,
   "id": "b07173b2-ea1c-414d-81d2-a3212b172607",
   "metadata": {},
   "outputs": [
    {
     "data": {
      "text/plain": [
       "[4, 9, 16, 25, 36]"
      ]
     },
     "execution_count": 8,
     "metadata": {},
     "output_type": "execute_result"
    }
   ],
   "source": [
    "list(map(lambda x : x**2 ,l))"
   ]
  },
  {
   "cell_type": "code",
   "execution_count": 10,
   "id": "a66c9f84-1f1b-48b3-a0af-781b75456dc3",
   "metadata": {},
   "outputs": [
    {
     "data": {
      "text/plain": [
       "[7, 9, 11, 13, 15]"
      ]
     },
     "execution_count": 10,
     "metadata": {},
     "output_type": "execute_result"
    }
   ],
   "source": [
    "l1 = [1,2,3,4,5]\n",
    "l2 = [6,7,8,9,10]\n",
    "#sum the element of lists\n",
    "\n",
    "list(map(lambda x,y : x+y ,l1,l2))"
   ]
  },
  {
   "cell_type": "code",
   "execution_count": 12,
   "id": "99cab3a7-b0c3-46ca-bd30-72fab1a94851",
   "metadata": {},
   "outputs": [],
   "source": [
    "def add(x,y):\n",
    "    return x+y"
   ]
  },
  {
   "cell_type": "code",
   "execution_count": 13,
   "id": "9f1336f1-71ed-4182-b2b0-47503f01e4f8",
   "metadata": {},
   "outputs": [
    {
     "data": {
      "text/plain": [
       "[7, 9, 11, 13, 15]"
      ]
     },
     "execution_count": 13,
     "metadata": {},
     "output_type": "execute_result"
    }
   ],
   "source": [
    "list(map(add,l1,l2))"
   ]
  },
  {
   "cell_type": "code",
   "execution_count": 15,
   "id": "aa7ad77d-8bc9-4d11-82f5-e6394ed8c78d",
   "metadata": {},
   "outputs": [
    {
     "data": {
      "text/plain": [
       "['P', 'W', 'S', 'K', 'I', 'L', 'L', 'S']"
      ]
     },
     "execution_count": 15,
     "metadata": {},
     "output_type": "execute_result"
    }
   ],
   "source": [
    "s= \"pwskills\"\n",
    "#convert string elements in upper case through map()\n",
    "list(map(lambda p: p.upper() , s))"
   ]
  },
  {
   "cell_type": "code",
   "execution_count": 16,
   "id": "db9e285f-663e-44ba-8525-9d9be3ff5f21",
   "metadata": {},
   "outputs": [],
   "source": [
    "# Reduce function   #collapse all elements and produce single element"
   ]
  },
  {
   "cell_type": "code",
   "execution_count": 17,
   "id": "2f147ef6-3cbc-4224-912a-80f3f61ca839",
   "metadata": {},
   "outputs": [],
   "source": [
    "from functools import reduce"
   ]
  },
  {
   "cell_type": "code",
   "execution_count": 20,
   "id": "f5c457d0-378d-4b2c-a2f5-bd91742ce508",
   "metadata": {},
   "outputs": [],
   "source": [
    "l = [1,2,3,3,4,5]"
   ]
  },
  {
   "cell_type": "code",
   "execution_count": 21,
   "id": "e15b0997-b4ff-40a6-9c6c-1b2dd4ca676a",
   "metadata": {},
   "outputs": [
    {
     "data": {
      "text/plain": [
       "18"
      ]
     },
     "execution_count": 21,
     "metadata": {},
     "output_type": "execute_result"
    }
   ],
   "source": [
    "reduce(lambda x,y : x+y ,l)"
   ]
  },
  {
   "cell_type": "code",
   "execution_count": 23,
   "id": "b8a1f4df-ce16-4711-8222-4008a2b26341",
   "metadata": {},
   "outputs": [
    {
     "ename": "TypeError",
     "evalue": "<lambda>() missing 1 required positional argument: 'z'",
     "output_type": "error",
     "traceback": [
      "\u001b[0;31m---------------------------------------------------------------------------\u001b[0m",
      "\u001b[0;31mTypeError\u001b[0m                                 Traceback (most recent call last)",
      "Cell \u001b[0;32mIn[23], line 1\u001b[0m\n\u001b[0;32m----> 1\u001b[0m \u001b[43mreduce\u001b[49m\u001b[43m(\u001b[49m\u001b[38;5;28;43;01mlambda\u001b[39;49;00m\u001b[43m \u001b[49m\u001b[43mx\u001b[49m\u001b[43m,\u001b[49m\u001b[43my\u001b[49m\u001b[43m,\u001b[49m\u001b[43mz\u001b[49m\u001b[43m \u001b[49m\u001b[43m:\u001b[49m\u001b[43m \u001b[49m\u001b[43mx\u001b[49m\u001b[38;5;241;43m+\u001b[39;49m\u001b[43my\u001b[49m\u001b[38;5;241;43m+\u001b[39;49m\u001b[43mz\u001b[49m\u001b[43m \u001b[49m\u001b[43m,\u001b[49m\u001b[43ml\u001b[49m\u001b[43m)\u001b[49m\n",
      "\u001b[0;31mTypeError\u001b[0m: <lambda>() missing 1 required positional argument: 'z'"
     ]
    }
   ],
   "source": [
    "reduce(lambda x,y,z : x+y+z ,l)   #only two parameter can argument/pass"
   ]
  },
  {
   "cell_type": "code",
   "execution_count": 24,
   "id": "5a028b33-92ec-46d0-a8c5-79f231faf6cc",
   "metadata": {},
   "outputs": [
    {
     "ename": "TypeError",
     "evalue": "reduce() of empty iterable with no initial value",
     "output_type": "error",
     "traceback": [
      "\u001b[0;31m---------------------------------------------------------------------------\u001b[0m",
      "\u001b[0;31mTypeError\u001b[0m                                 Traceback (most recent call last)",
      "Cell \u001b[0;32mIn[24], line 1\u001b[0m\n\u001b[0;32m----> 1\u001b[0m \u001b[43mreduce\u001b[49m\u001b[43m(\u001b[49m\u001b[38;5;28;43;01mlambda\u001b[39;49;00m\u001b[43m \u001b[49m\u001b[43mx\u001b[49m\u001b[43m,\u001b[49m\u001b[43my\u001b[49m\u001b[43m \u001b[49m\u001b[43m:\u001b[49m\u001b[43m \u001b[49m\u001b[43mx\u001b[49m\u001b[38;5;241;43m+\u001b[39;49m\u001b[43my\u001b[49m\u001b[43m \u001b[49m\u001b[43m,\u001b[49m\u001b[43m[\u001b[49m\u001b[43m]\u001b[49m\u001b[43m)\u001b[49m\n",
      "\u001b[0;31mTypeError\u001b[0m: reduce() of empty iterable with no initial value"
     ]
    }
   ],
   "source": [
    "reduce(lambda x,y : x+y ,[])"
   ]
  },
  {
   "cell_type": "code",
   "execution_count": 25,
   "id": "ec839e9d-4a26-4e21-91ca-b132a1030e34",
   "metadata": {},
   "outputs": [
    {
     "data": {
      "text/plain": [
       "1"
      ]
     },
     "execution_count": 25,
     "metadata": {},
     "output_type": "execute_result"
    }
   ],
   "source": [
    "reduce(lambda x,y : x+y ,[1])  #exceptional case"
   ]
  },
  {
   "cell_type": "code",
   "execution_count": 26,
   "id": "d587e37a-72d4-422c-8166-6fd4007f0111",
   "metadata": {},
   "outputs": [
    {
     "data": {
      "text/plain": [
       "360"
      ]
     },
     "execution_count": 26,
     "metadata": {},
     "output_type": "execute_result"
    }
   ],
   "source": [
    "reduce(lambda x,y : x*y ,l)"
   ]
  },
  {
   "cell_type": "code",
   "execution_count": 27,
   "id": "25849753-681a-4c50-93a4-e7529b65ac0b",
   "metadata": {},
   "outputs": [
    {
     "data": {
      "text/plain": [
       "[1, 2, 3, 3, 4, 5]"
      ]
     },
     "execution_count": 27,
     "metadata": {},
     "output_type": "execute_result"
    }
   ],
   "source": [
    "l"
   ]
  },
  {
   "cell_type": "code",
   "execution_count": 28,
   "id": "0f20c78b-8399-48c1-abf7-70cec7a36277",
   "metadata": {},
   "outputs": [
    {
     "data": {
      "text/plain": [
       "5"
      ]
     },
     "execution_count": 28,
     "metadata": {},
     "output_type": "execute_result"
    }
   ],
   "source": [
    "reduce(lambda x,y : x if x>y else y , l)"
   ]
  },
  {
   "cell_type": "code",
   "execution_count": 29,
   "id": "a99e6d25-a62b-4b5a-a9c9-0f9189f44819",
   "metadata": {},
   "outputs": [],
   "source": [
    "# Filter function"
   ]
  },
  {
   "cell_type": "code",
   "execution_count": 30,
   "id": "69893684-a015-4b17-8e9e-043a2674cdad",
   "metadata": {},
   "outputs": [
    {
     "data": {
      "text/plain": [
       "[1, 2, 3, 3, 4, 5]"
      ]
     },
     "execution_count": 30,
     "metadata": {},
     "output_type": "execute_result"
    }
   ],
   "source": [
    "l"
   ]
  },
  {
   "cell_type": "code",
   "execution_count": 31,
   "id": "dd3d57fb-92a6-4ebd-849c-7a0057046f89",
   "metadata": {},
   "outputs": [],
   "source": [
    "#find even no. from l"
   ]
  },
  {
   "cell_type": "code",
   "execution_count": 32,
   "id": "e116aa58-00ce-42c8-9a44-39ec51b5d8d3",
   "metadata": {},
   "outputs": [
    {
     "data": {
      "text/plain": [
       "[2, 4]"
      ]
     },
     "execution_count": 32,
     "metadata": {},
     "output_type": "execute_result"
    }
   ],
   "source": [
    "list(filter(lambda x : x%2==0 , l))"
   ]
  },
  {
   "cell_type": "code",
   "execution_count": 33,
   "id": "c9234210-2940-4dfb-b5b5-52ee489928ce",
   "metadata": {},
   "outputs": [
    {
     "data": {
      "text/plain": [
       "[1, 3, 3, 5]"
      ]
     },
     "execution_count": 33,
     "metadata": {},
     "output_type": "execute_result"
    }
   ],
   "source": [
    "list(filter(lambda x : x%2!=0 , l))"
   ]
  },
  {
   "cell_type": "code",
   "execution_count": 34,
   "id": "82448266-c69a-432c-8df5-26f26e1ba604",
   "metadata": {},
   "outputs": [],
   "source": [
    "l1 = [-3,4,5,-1,-5]"
   ]
  },
  {
   "cell_type": "code",
   "execution_count": 35,
   "id": "c8d39074-73bc-4a49-b434-01f749de6037",
   "metadata": {},
   "outputs": [
    {
     "data": {
      "text/plain": [
       "[-3, -1, -5]"
      ]
     },
     "execution_count": 35,
     "metadata": {},
     "output_type": "execute_result"
    }
   ],
   "source": [
    "list(filter(lambda x :x<0 ,l1))"
   ]
  },
  {
   "cell_type": "code",
   "execution_count": 36,
   "id": "13e5087f-7902-49db-b13d-c0e15dd0f37e",
   "metadata": {},
   "outputs": [],
   "source": [
    "l2 = [\"sudh\",\"pwskills\",\"kumar\",\"banglore\",\"krish\"]"
   ]
  },
  {
   "cell_type": "code",
   "execution_count": 37,
   "id": "efe9bb16-9b39-42f5-a3f9-d440f21a5d6f",
   "metadata": {},
   "outputs": [
    {
     "data": {
      "text/plain": [
       "['sudh', 'kumar', 'krish']"
      ]
     },
     "execution_count": 37,
     "metadata": {},
     "output_type": "execute_result"
    }
   ],
   "source": [
    "list(filter(lambda x :len(x) <6 ,l2))"
   ]
  },
  {
   "cell_type": "code",
   "execution_count": null,
   "id": "828d2432-afce-4bea-b083-994d4e17ce3f",
   "metadata": {},
   "outputs": [],
   "source": []
  }
 ],
 "metadata": {
  "kernelspec": {
   "display_name": "Python 3 (ipykernel)",
   "language": "python",
   "name": "python3"
  },
  "language_info": {
   "codemirror_mode": {
    "name": "ipython",
    "version": 3
   },
   "file_extension": ".py",
   "mimetype": "text/x-python",
   "name": "python",
   "nbconvert_exporter": "python",
   "pygments_lexer": "ipython3",
   "version": "3.10.8"
  }
 },
 "nbformat": 4,
 "nbformat_minor": 5
}
